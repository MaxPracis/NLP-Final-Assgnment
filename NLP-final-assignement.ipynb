{
  "nbformat": 4,
  "nbformat_minor": 0,
  "metadata": {
    "colab": {
      "name": "Untitled0.ipynb",
      "provenance": [],
      "authorship_tag": "ABX9TyMpvO3JodcXvTEZBl9LCyed",
      "include_colab_link": true
    },
    "kernelspec": {
      "name": "python3",
      "display_name": "Python 3"
    },
    "accelerator": "GPU"
  },
  "cells": [
    {
      "cell_type": "markdown",
      "metadata": {
        "id": "view-in-github",
        "colab_type": "text"
      },
      "source": [
        "<a href=\"https://colab.research.google.com/github/MaxPracis/NLP-Final-Assgnment/blob/master/NLP-final-assignement.ipynb\" target=\"_parent\"><img src=\"https://colab.research.google.com/assets/colab-badge.svg\" alt=\"Open In Colab\"/></a>"
      ]
    },
    {
      "cell_type": "code",
      "metadata": {
        "id": "DUQ0y6F1QZZe",
        "colab_type": "code",
        "colab": {
          "base_uri": "https://localhost:8080/",
          "height": 121
        },
        "outputId": "cf4f47c6-3be4-4217-ef31-30cc4be2620e"
      },
      "source": [
        "from google.colab import drive\n",
        "drive.mount('/content/drive')"
      ],
      "execution_count": 1,
      "outputs": [
        {
          "output_type": "stream",
          "text": [
            "Go to this URL in a browser: https://accounts.google.com/o/oauth2/auth?client_id=947318989803-6bn6qk8qdgf4n4g3pfee6491hc0brc4i.apps.googleusercontent.com&redirect_uri=urn%3aietf%3awg%3aoauth%3a2.0%3aoob&response_type=code&scope=email%20https%3a%2f%2fwww.googleapis.com%2fauth%2fdocs.test%20https%3a%2f%2fwww.googleapis.com%2fauth%2fdrive%20https%3a%2f%2fwww.googleapis.com%2fauth%2fdrive.photos.readonly%20https%3a%2f%2fwww.googleapis.com%2fauth%2fpeopleapi.readonly\n",
            "\n",
            "Enter your authorization code:\n",
            "··········\n",
            "Mounted at /content/drive\n"
          ],
          "name": "stdout"
        }
      ]
    },
    {
      "cell_type": "code",
      "metadata": {
        "id": "sAddKlS5RWnG",
        "colab_type": "code",
        "colab": {
          "base_uri": "https://localhost:8080/",
          "height": 34
        },
        "outputId": "c8f4a89a-d60e-40cc-c4b9-42ede3cc6179"
      },
      "source": [
        "!pwd"
      ],
      "execution_count": 4,
      "outputs": [
        {
          "output_type": "stream",
          "text": [
            "/content\n"
          ],
          "name": "stdout"
        }
      ]
    },
    {
      "cell_type": "code",
      "metadata": {
        "id": "-r-A2v5sRhOa",
        "colab_type": "code",
        "colab": {
          "base_uri": "https://localhost:8080/",
          "height": 34
        },
        "outputId": "95ec4fca-a5e0-4db6-bfda-a5c78de8f9b8"
      },
      "source": [
        "%cd /content/drive/My Drive/NLP\n"
      ],
      "execution_count": 8,
      "outputs": [
        {
          "output_type": "stream",
          "text": [
            "/content/drive/My Drive/NLP\n"
          ],
          "name": "stdout"
        }
      ]
    },
    {
      "cell_type": "code",
      "metadata": {
        "id": "OX6Lne9uVLaG",
        "colab_type": "code",
        "colab": {
          "base_uri": "https://localhost:8080/",
          "height": 70
        },
        "outputId": "545750e8-28d5-408c-e5d4-426da0dd257f"
      },
      "source": [
        "# import packages\n",
        "import numpy as np\n",
        "import pandas as pd\n",
        "import seaborn as sns\n",
        "import matplotlib.pyplot as plt"
      ],
      "execution_count": 2,
      "outputs": [
        {
          "output_type": "stream",
          "text": [
            "/usr/local/lib/python3.6/dist-packages/statsmodels/tools/_testing.py:19: FutureWarning: pandas.util.testing is deprecated. Use the functions in the public API at pandas.testing instead.\n",
            "  import pandas.util.testing as tm\n"
          ],
          "name": "stderr"
        }
      ]
    },
    {
      "cell_type": "code",
      "metadata": {
        "id": "nNKFPpcQNw_o",
        "colab_type": "code",
        "colab": {
          "base_uri": "https://localhost:8080/",
          "height": 373
        },
        "outputId": "679096a2-dcc6-4c2e-8f2d-3940757a0fe2"
      },
      "source": [
        "#Import Data\n",
        "df = pd.read_csv('export-forums_en.csv', error_bad_lines=False)"
      ],
      "execution_count": 9,
      "outputs": [
        {
          "output_type": "stream",
          "text": [
            "b'Skipping line 82773: expected 18 fields, saw 19\\n'\n",
            "b'Skipping line 148296: expected 18 fields, saw 19\\nSkipping line 150160: expected 18 fields, saw 22\\n'\n",
            "b'Skipping line 208596: expected 18 fields, saw 19\\nSkipping line 221196: expected 18 fields, saw 19\\n'\n",
            "b'Skipping line 289838: expected 18 fields, saw 19\\n'\n",
            "b'Skipping line 303102: expected 18 fields, saw 19\\nSkipping line 303252: expected 18 fields, saw 20\\nSkipping line 303253: expected 18 fields, saw 19\\nSkipping line 303254: expected 18 fields, saw 21\\nSkipping line 303433: expected 18 fields, saw 19\\nSkipping line 303453: expected 18 fields, saw 21\\nSkipping line 303474: expected 18 fields, saw 19\\nSkipping line 318882: expected 18 fields, saw 19\\n'\n",
            "b'Skipping line 341159: expected 18 fields, saw 19\\n'\n",
            "b'Skipping line 373321: expected 18 fields, saw 19\\nSkipping line 374230: expected 18 fields, saw 20\\nSkipping line 374231: expected 18 fields, saw 27\\n'\n",
            "b'Skipping line 399960: expected 18 fields, saw 19\\nSkipping line 415105: expected 18 fields, saw 19\\nSkipping line 418141: expected 18 fields, saw 24\\n'\n",
            "b'Skipping line 436478: expected 18 fields, saw 22\\nSkipping line 436486: expected 18 fields, saw 22\\nSkipping line 441923: expected 18 fields, saw 20\\nSkipping line 443017: expected 18 fields, saw 28\\nSkipping line 447627: expected 18 fields, saw 26\\n'\n",
            "b'Skipping line 461439: expected 18 fields, saw 19\\nSkipping line 461440: expected 18 fields, saw 19\\nSkipping line 466365: expected 18 fields, saw 19\\nSkipping line 466366: expected 18 fields, saw 19\\nSkipping line 472158: expected 18 fields, saw 19\\nSkipping line 479622: expected 18 fields, saw 20\\nSkipping line 487300: expected 18 fields, saw 29\\n'\n",
            "b'Skipping line 493759: expected 18 fields, saw 20\\nSkipping line 519531: expected 18 fields, saw 20\\nSkipping line 519532: expected 18 fields, saw 20\\nSkipping line 522791: expected 18 fields, saw 19\\n'\n",
            "b'Skipping line 530650: expected 18 fields, saw 20\\nSkipping line 530659: expected 18 fields, saw 19\\nSkipping line 536146: expected 18 fields, saw 19\\nSkipping line 547871: expected 18 fields, saw 19\\nSkipping line 549682: expected 18 fields, saw 20\\nSkipping line 552624: expected 18 fields, saw 21\\nSkipping line 553451: expected 18 fields, saw 19\\nSkipping line 553452: expected 18 fields, saw 19\\nSkipping line 553453: expected 18 fields, saw 19\\nSkipping line 553454: expected 18 fields, saw 19\\nSkipping line 553455: expected 18 fields, saw 19\\nSkipping line 553456: expected 18 fields, saw 19\\nSkipping line 555174: expected 18 fields, saw 21\\n'\n",
            "b'Skipping line 561339: expected 18 fields, saw 19\\nSkipping line 568390: expected 18 fields, saw 19\\n'\n",
            "b'Skipping line 606401: expected 18 fields, saw 19\\nSkipping line 614834: expected 18 fields, saw 19\\nSkipping line 614835: expected 18 fields, saw 19\\nSkipping line 614836: expected 18 fields, saw 19\\n'\n",
            "b'Skipping line 623805: expected 18 fields, saw 21\\nSkipping line 625348: expected 18 fields, saw 19\\nSkipping line 625970: expected 18 fields, saw 19\\nSkipping line 626219: expected 18 fields, saw 19\\nSkipping line 626409: expected 18 fields, saw 21\\nSkipping line 626979: expected 18 fields, saw 22\\nSkipping line 626981: expected 18 fields, saw 23\\nSkipping line 627630: expected 18 fields, saw 19\\nSkipping line 627633: expected 18 fields, saw 20\\nSkipping line 628565: expected 18 fields, saw 20\\nSkipping line 629230: expected 18 fields, saw 19\\nSkipping line 629379: expected 18 fields, saw 21\\nSkipping line 629380: expected 18 fields, saw 21\\nSkipping line 629381: expected 18 fields, saw 21\\nSkipping line 629415: expected 18 fields, saw 43\\nSkipping line 629567: expected 18 fields, saw 21\\nSkipping line 629578: expected 18 fields, saw 20\\nSkipping line 629637: expected 18 fields, saw 28\\nSkipping line 630195: expected 18 fields, saw 19\\nSkipping line 630583: expected 18 fields, saw 19\\nSkipping line 630661: expected 18 fields, saw 31\\nSkipping line 630785: expected 18 fields, saw 19\\nSkipping line 630811: expected 18 fields, saw 22\\nSkipping line 630969: expected 18 fields, saw 19\\nSkipping line 631319: expected 18 fields, saw 19\\nSkipping line 631514: expected 18 fields, saw 19\\nSkipping line 631725: expected 18 fields, saw 20\\nSkipping line 632093: expected 18 fields, saw 32\\nSkipping line 632261: expected 18 fields, saw 19\\nSkipping line 633134: expected 18 fields, saw 20\\nSkipping line 633743: expected 18 fields, saw 21\\nSkipping line 634972: expected 18 fields, saw 21\\nSkipping line 635432: expected 18 fields, saw 20\\nSkipping line 636307: expected 18 fields, saw 19\\nSkipping line 636410: expected 18 fields, saw 19\\nSkipping line 636821: expected 18 fields, saw 26\\nSkipping line 637123: expected 18 fields, saw 20\\nSkipping line 637143: expected 18 fields, saw 21\\nSkipping line 637180: expected 18 fields, saw 23\\nSkipping line 637428: expected 18 fields, saw 19\\nSkipping line 637823: expected 18 fields, saw 21\\nSkipping line 638019: expected 18 fields, saw 19\\nSkipping line 638880: expected 18 fields, saw 19\\nSkipping line 639880: expected 18 fields, saw 21\\nSkipping line 640460: expected 18 fields, saw 20\\nSkipping line 640692: expected 18 fields, saw 21\\nSkipping line 641658: expected 18 fields, saw 19\\nSkipping line 642622: expected 18 fields, saw 19\\nSkipping line 642734: expected 18 fields, saw 23\\nSkipping line 642781: expected 18 fields, saw 21\\nSkipping line 642811: expected 18 fields, saw 19\\nSkipping line 643547: expected 18 fields, saw 19\\nSkipping line 644022: expected 18 fields, saw 23\\nSkipping line 644164: expected 18 fields, saw 21\\nSkipping line 644818: expected 18 fields, saw 20\\nSkipping line 645129: expected 18 fields, saw 22\\nSkipping line 645212: expected 18 fields, saw 19\\nSkipping line 645694: expected 18 fields, saw 19\\nSkipping line 645697: expected 18 fields, saw 19\\nSkipping line 645708: expected 18 fields, saw 19\\nSkipping line 645709: expected 18 fields, saw 19\\nSkipping line 646184: expected 18 fields, saw 20\\nSkipping line 646927: expected 18 fields, saw 20\\nSkipping line 647151: expected 18 fields, saw 21\\nSkipping line 647422: expected 18 fields, saw 36\\nSkipping line 647520: expected 18 fields, saw 21\\nSkipping line 647852: expected 18 fields, saw 19\\nSkipping line 647945: expected 18 fields, saw 19\\nSkipping line 648497: expected 18 fields, saw 20\\nSkipping line 648499: expected 18 fields, saw 20\\nSkipping line 648593: expected 18 fields, saw 19\\nSkipping line 648663: expected 18 fields, saw 19\\nSkipping line 649689: expected 18 fields, saw 20\\nSkipping line 651119: expected 18 fields, saw 19\\nSkipping line 651477: expected 18 fields, saw 19\\nSkipping line 651569: expected 18 fields, saw 20\\nSkipping line 651739: expected 18 fields, saw 20\\nSkipping line 652050: expected 18 fields, saw 24\\nSkipping line 652054: expected 18 fields, saw 19\\nSkipping line 652077: expected 18 fields, saw 20\\nSkipping line 652090: expected 18 fields, saw 19\\nSkipping line 652576: expected 18 fields, saw 21\\nSkipping line 652718: expected 18 fields, saw 21\\nSkipping line 652872: expected 18 fields, saw 19\\nSkipping line 653315: expected 18 fields, saw 21\\nSkipping line 654563: expected 18 fields, saw 19\\nSkipping line 655279: expected 18 fields, saw 20\\nSkipping line 655280: expected 18 fields, saw 20\\n'\n",
            "b'Skipping line 655792: expected 18 fields, saw 20\\nSkipping line 656511: expected 18 fields, saw 19\\nSkipping line 656955: expected 18 fields, saw 21\\nSkipping line 657770: expected 18 fields, saw 19\\nSkipping line 657795: expected 18 fields, saw 20\\nSkipping line 658090: expected 18 fields, saw 19\\nSkipping line 658279: expected 18 fields, saw 19\\nSkipping line 673174: expected 18 fields, saw 20\\nSkipping line 682911: expected 18 fields, saw 21\\nSkipping line 682914: expected 18 fields, saw 22\\nSkipping line 682915: expected 18 fields, saw 25\\n'\n",
            "b'Skipping line 700798: expected 18 fields, saw 20\\nSkipping line 702433: expected 18 fields, saw 19\\nSkipping line 705001: expected 18 fields, saw 19\\n'\n",
            "b'Skipping line 728095: expected 18 fields, saw 23\\nSkipping line 733386: expected 18 fields, saw 20\\nSkipping line 734485: expected 18 fields, saw 19\\nSkipping line 734487: expected 18 fields, saw 19\\nSkipping line 734490: expected 18 fields, saw 20\\nSkipping line 734491: expected 18 fields, saw 19\\nSkipping line 740815: expected 18 fields, saw 19\\nSkipping line 740816: expected 18 fields, saw 19\\n'\n",
            "/usr/local/lib/python3.6/dist-packages/IPython/core/interactiveshell.py:2718: DtypeWarning: Columns (0,2,3,4,5,8,9,10,11,12,14,15,16,17) have mixed types.Specify dtype option on import or set low_memory=False.\n",
            "  interactivity=interactivity, compiler=compiler, result=result)\n"
          ],
          "name": "stderr"
        }
      ]
    },
    {
      "cell_type": "code",
      "metadata": {
        "id": "GZtVAgaKVKOt",
        "colab_type": "code",
        "colab": {
          "base_uri": "https://localhost:8080/",
          "height": 590
        },
        "outputId": "49383d9f-a6c1-48aa-b693-e0212120390f"
      },
      "source": [
        "df"
      ],
      "execution_count": 10,
      "outputs": [
        {
          "output_type": "execute_result",
          "data": {
            "text/html": [
              "<div>\n",
              "<style scoped>\n",
              "    .dataframe tbody tr th:only-of-type {\n",
              "        vertical-align: middle;\n",
              "    }\n",
              "\n",
              "    .dataframe tbody tr th {\n",
              "        vertical-align: top;\n",
              "    }\n",
              "\n",
              "    .dataframe thead th {\n",
              "        text-align: right;\n",
              "    }\n",
              "</style>\n",
              "<table border=\"1\" class=\"dataframe\">\n",
              "  <thead>\n",
              "    <tr style=\"text-align: right;\">\n",
              "      <th></th>\n",
              "      <th>69561</th>\n",
              "      <th>C</th>\n",
              "      <th>0</th>\n",
              "      <th>4</th>\n",
              "      <th>36102</th>\n",
              "      <th>0.1</th>\n",
              "      <th>Windows Vista to XP Downgrading/Reformat?</th>\n",
              "      <th>&lt;a href='http://paparadit.blogspot.com/2007/06/installing-sata-hard-drive-with-windows.html' target='_blank' rel='nofollow noopener noreferrer'&gt;http://paparadit.blogspot.com/2007/06/installing-sata-hard-drive-with-windows.html&lt;/a&gt;</th>\n",
              "      <th>0.2</th>\n",
              "      <th>136</th>\n",
              "      <th>0.3</th>\n",
              "      <th>1</th>\n",
              "      <th>180</th>\n",
              "      <th>IN</th>\n",
              "      <th>1234889592</th>\n",
              "      <th>1306387514</th>\n",
              "      <th>865612499</th>\n",
              "      <th>4.1</th>\n",
              "    </tr>\n",
              "  </thead>\n",
              "  <tbody>\n",
              "    <tr>\n",
              "      <th>0</th>\n",
              "      <td>587308</td>\n",
              "      <td>C</td>\n",
              "      <td>0</td>\n",
              "      <td>4</td>\n",
              "      <td>17183</td>\n",
              "      <td>0</td>\n",
              "      <td>Windows Vista to XP Downgrading/Reformat?</td>\n",
              "      <td>but my does not have where to off the SATA. wh...</td>\n",
              "      <td>0</td>\n",
              "      <td>136</td>\n",
              "      <td>0</td>\n",
              "      <td>1</td>\n",
              "      <td>180</td>\n",
              "      <td>\\N</td>\n",
              "      <td>1304428703</td>\n",
              "      <td>1306387514</td>\n",
              "      <td>1949389026</td>\n",
              "      <td>4</td>\n",
              "    </tr>\n",
              "    <tr>\n",
              "      <th>1</th>\n",
              "      <td>587682</td>\n",
              "      <td>C</td>\n",
              "      <td>0</td>\n",
              "      <td>4</td>\n",
              "      <td>8981</td>\n",
              "      <td>0</td>\n",
              "      <td>Windows Vista to XP Downgrading/Reformat?</td>\n",
              "      <td>windows 7 (very similar to windows vista) won'...</td>\n",
              "      <td>0</td>\n",
              "      <td>136</td>\n",
              "      <td>0</td>\n",
              "      <td>1</td>\n",
              "      <td>180</td>\n",
              "      <td>\\N</td>\n",
              "      <td>1304540935</td>\n",
              "      <td>1306387514</td>\n",
              "      <td>1017830945</td>\n",
              "      <td>4</td>\n",
              "    </tr>\n",
              "    <tr>\n",
              "      <th>2</th>\n",
              "      <td>614161</td>\n",
              "      <td>C</td>\n",
              "      <td>0</td>\n",
              "      <td>4</td>\n",
              "      <td>6930</td>\n",
              "      <td>0</td>\n",
              "      <td>Windows Vista to XP Downgrading/Reformat?</td>\n",
              "      <td>any body in this forum having problem of doung...</td>\n",
              "      <td>0</td>\n",
              "      <td>136</td>\n",
              "      <td>0</td>\n",
              "      <td>1</td>\n",
              "      <td>180</td>\n",
              "      <td>\\N</td>\n",
              "      <td>1316594311</td>\n",
              "      <td>1306387514</td>\n",
              "      <td>3324437120</td>\n",
              "      <td>4</td>\n",
              "    </tr>\n",
              "    <tr>\n",
              "      <th>3</th>\n",
              "      <td>4</td>\n",
              "      <td>Q</td>\n",
              "      <td>0</td>\n",
              "      <td>4</td>\n",
              "      <td>0</td>\n",
              "      <td>1</td>\n",
              "      <td>Windows Vista to XP Downgrading/Reformat?</td>\n",
              "      <td>Hello,\\r\\\\n&lt;br&gt;I bought a new laptop with Wind...</td>\n",
              "      <td>0</td>\n",
              "      <td>136</td>\n",
              "      <td>1</td>\n",
              "      <td>1</td>\n",
              "      <td>180</td>\n",
              "      <td>FR</td>\n",
              "      <td>1199900147</td>\n",
              "      <td>1306387514</td>\n",
              "      <td>418598184</td>\n",
              "      <td>4</td>\n",
              "    </tr>\n",
              "    <tr>\n",
              "      <th>4</th>\n",
              "      <td>13</td>\n",
              "      <td>A</td>\n",
              "      <td>0</td>\n",
              "      <td>4</td>\n",
              "      <td>4</td>\n",
              "      <td>0</td>\n",
              "      <td>Windows Vista to XP Downgrading/Reformat?</td>\n",
              "      <td>I don't think that they're lying on that one.....</td>\n",
              "      <td>0</td>\n",
              "      <td>136</td>\n",
              "      <td>1</td>\n",
              "      <td>1</td>\n",
              "      <td>180</td>\n",
              "      <td>FR</td>\n",
              "      <td>1199952528</td>\n",
              "      <td>1306387514</td>\n",
              "      <td>1932528411</td>\n",
              "      <td>4</td>\n",
              "    </tr>\n",
              "    <tr>\n",
              "      <th>...</th>\n",
              "      <td>...</td>\n",
              "      <td>...</td>\n",
              "      <td>...</td>\n",
              "      <td>...</td>\n",
              "      <td>...</td>\n",
              "      <td>...</td>\n",
              "      <td>...</td>\n",
              "      <td>...</td>\n",
              "      <td>...</td>\n",
              "      <td>...</td>\n",
              "      <td>...</td>\n",
              "      <td>...</td>\n",
              "      <td>...</td>\n",
              "      <td>...</td>\n",
              "      <td>...</td>\n",
              "      <td>...</td>\n",
              "      <td>...</td>\n",
              "      <td>...</td>\n",
              "    </tr>\n",
              "    <tr>\n",
              "      <th>756850</th>\n",
              "      <td>1081095</td>\n",
              "      <td>A</td>\n",
              "      <td>0</td>\n",
              "      <td>1081091</td>\n",
              "      <td>1.08109e+06</td>\n",
              "      <td>0</td>\n",
              "      <td>PC problem</td>\n",
              "      <td>Please explain &amp;quot;when making the monitor k...</td>\n",
              "      <td>1</td>\n",
              "      <td>128</td>\n",
              "      <td>1</td>\n",
              "      <td>0</td>\n",
              "      <td>1</td>\n",
              "      <td>\\N</td>\n",
              "      <td>1.55533e+09</td>\n",
              "      <td>1.55533e+09</td>\n",
              "      <td>1.01419e+09</td>\n",
              "      <td>0</td>\n",
              "    </tr>\n",
              "    <tr>\n",
              "      <th>756851</th>\n",
              "      <td>1081099</td>\n",
              "      <td>Q</td>\n",
              "      <td>0</td>\n",
              "      <td>1081099</td>\n",
              "      <td>0</td>\n",
              "      <td>0</td>\n",
              "      <td>Face book</td>\n",
              "      <td>Why am I having problems viewing my face book ...</td>\n",
              "      <td>0</td>\n",
              "      <td>154</td>\n",
              "      <td>1</td>\n",
              "      <td>0</td>\n",
              "      <td>1</td>\n",
              "      <td>\\N</td>\n",
              "      <td>1.55534e+09</td>\n",
              "      <td>1.55534e+09</td>\n",
              "      <td>8.95442e+08</td>\n",
              "      <td>0</td>\n",
              "    </tr>\n",
              "    <tr>\n",
              "      <th>756852</th>\n",
              "      <td>1081100</td>\n",
              "      <td>A</td>\n",
              "      <td>0</td>\n",
              "      <td>1081099</td>\n",
              "      <td>1.0811e+06</td>\n",
              "      <td>0</td>\n",
              "      <td>Face book</td>\n",
              "      <td>Um, because ypu are wearing sunglasses?  That ...</td>\n",
              "      <td>1</td>\n",
              "      <td>154</td>\n",
              "      <td>1</td>\n",
              "      <td>0</td>\n",
              "      <td>1</td>\n",
              "      <td>\\N</td>\n",
              "      <td>1.55534e+09</td>\n",
              "      <td>1.55534e+09</td>\n",
              "      <td>2.67571e+09</td>\n",
              "      <td>0</td>\n",
              "    </tr>\n",
              "    <tr>\n",
              "      <th>756853</th>\n",
              "      <td>1081102</td>\n",
              "      <td>Q</td>\n",
              "      <td>0</td>\n",
              "      <td>1081102</td>\n",
              "      <td>0</td>\n",
              "      <td>0</td>\n",
              "      <td>message aapp</td>\n",
              "      <td>Hello, \\r\\\\n&lt;br /&gt;Message aapp daunlod</td>\n",
              "      <td>0</td>\n",
              "      <td>26</td>\n",
              "      <td>0</td>\n",
              "      <td>0</td>\n",
              "      <td>0</td>\n",
              "      <td>\\N</td>\n",
              "      <td>1.55534e+09</td>\n",
              "      <td>1.55534e+09</td>\n",
              "      <td>3.57866e+09</td>\n",
              "      <td>0</td>\n",
              "    </tr>\n",
              "    <tr>\n",
              "      <th>756854</th>\n",
              "      <td>1081103</td>\n",
              "      <td>Q</td>\n",
              "      <td>0</td>\n",
              "      <td>1081103</td>\n",
              "      <td>0</td>\n",
              "      <td>0</td>\n",
              "      <td>Recovering yahoo mail via FB</td>\n",
              "      <td>I have a FB account attached to my yahoo accou...</td>\n",
              "      <td>0</td>\n",
              "      <td>148</td>\n",
              "      <td>1</td>\n",
              "      <td>0</td>\n",
              "      <td>0</td>\n",
              "      <td>\\N</td>\n",
              "      <td>1.55534e+09</td>\n",
              "      <td>1.55534e+09</td>\n",
              "      <td>3.03255e+09</td>\n",
              "      <td>0</td>\n",
              "    </tr>\n",
              "  </tbody>\n",
              "</table>\n",
              "<p>756855 rows × 18 columns</p>\n",
              "</div>"
            ],
            "text/plain": [
              "          69561  C  0        4  ...   1234889592   1306387514    865612499 4.1\n",
              "0        587308  C  0        4  ...   1304428703   1306387514   1949389026   4\n",
              "1        587682  C  0        4  ...   1304540935   1306387514   1017830945   4\n",
              "2        614161  C  0        4  ...   1316594311   1306387514   3324437120   4\n",
              "3             4  Q  0        4  ...   1199900147   1306387514    418598184   4\n",
              "4            13  A  0        4  ...   1199952528   1306387514   1932528411   4\n",
              "...         ... .. ..      ...  ...          ...          ...          ...  ..\n",
              "756850  1081095  A  0  1081091  ...  1.55533e+09  1.55533e+09  1.01419e+09   0\n",
              "756851  1081099  Q  0  1081099  ...  1.55534e+09  1.55534e+09  8.95442e+08   0\n",
              "756852  1081100  A  0  1081099  ...  1.55534e+09  1.55534e+09  2.67571e+09   0\n",
              "756853  1081102  Q  0  1081102  ...  1.55534e+09  1.55534e+09  3.57866e+09   0\n",
              "756854  1081103  Q  0  1081103  ...  1.55534e+09  1.55534e+09  3.03255e+09   0\n",
              "\n",
              "[756855 rows x 18 columns]"
            ]
          },
          "metadata": {
            "tags": []
          },
          "execution_count": 10
        }
      ]
    }
  ]
}